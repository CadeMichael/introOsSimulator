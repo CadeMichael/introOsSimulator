{
 "cells": [
  {
   "cell_type": "code",
   "execution_count": 4,
   "id": "treated-council",
   "metadata": {},
   "outputs": [],
   "source": [
    "import matplotlib.pyplot as plt\n",
    "import pandas as pd\n",
    "import csv"
   ]
  },
  {
   "cell_type": "code",
   "execution_count": 5,
   "id": "furnished-method",
   "metadata": {},
   "outputs": [
    {
     "data": {
      "image/png": "[encoded data removed]",
      "text/plain": [
       "<Figure size 432x288 with 1 Axes>"
      ]
     },
     "metadata": {
      "needs_background": "light"
     },
     "output_type": "display_data"
    }
   ],
   "source": [
    "x=[]\n",
    "y=[]\n",
    "\n",
    "with open('test.csv', 'r') as csvfile:\n",
    "    plots= csv.reader(csvfile, delimiter=',')\n",
    "    for row in plots:\n",
    "        y.append(float(row[1]))\n",
    "        x.append(float(row[2]))\n",
    "\n",
    "\n",
    "plt.hist(y,[0,1,2,3,4,5,6,7,8,9,10,11,12,13,14,15,16,17,18,19,20],histtype='bar', rwidth=0.8) \n",
    "plt.title('Size vs Free')\n",
    "plt.xlabel('size')\n",
    "plt.ylabel('free')\n",
    "plt.show()\n"
   ]
  },
  {
   "cell_type": "code",
   "execution_count": 11,
   "id": "careful-chess",
   "metadata": {},
   "outputs": [],
   "source": [
    "# if you want new results you can run this code to compile and \n",
    "# then execute the code that creates this graph"
   ]
  },
  {
   "cell_type": "code",
   "execution_count": 1,
   "id": "orange-consistency",
   "metadata": {},
   "outputs": [],
   "source": [
    "! g++ part1a.cpp"
   ]
  },
  {
   "cell_type": "code",
   "execution_count": 2,
   "id": "express-orleans",
   "metadata": {},
   "outputs": [],
   "source": [
    "! ./a.out >> test.csv"
   ]
  },
  {
   "cell_type": "code",
   "execution_count": null,
   "id": "civilian-welsh",
   "metadata": {},
   "outputs": [],
   "source": []
  }
 ],
 "metadata": {
  "kernelspec": {
   "display_name": "Python 3",
   "language": "python",
   "name": "python3"
  },
  "language_info": {
   "codemirror_mode": {
    "name": "ipython",
    "version": 3
   },
   "file_extension": ".py",
   "mimetype": "text/x-python",
   "name": "python",
   "nbconvert_exporter": "python",
   "pygments_lexer": "ipython3",
   "version": "3.9.2"
  }
 },
 "nbformat": 4,
 "nbformat_minor": 5
}
